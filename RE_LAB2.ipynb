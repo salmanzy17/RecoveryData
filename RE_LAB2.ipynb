{
 "cells": [
  {
   "cell_type": "code",
   "execution_count": 1,
   "id": "worst-nylon",
   "metadata": {},
   "outputs": [
    {
     "name": "stdout",
     "output_type": "stream",
     "text": [
      "Requirement already satisfied: nltk in e:\\users\\acer\\anaconda3\\lib\\site-packages (3.5)Note: you may need to restart the kernel to use updated packages.\n",
      "Requirement already satisfied: click in e:\\users\\acer\\anaconda3\\lib\\site-packages (from nltk) (7.1.2)\n",
      "Requirement already satisfied: regex in e:\\users\\acer\\anaconda3\\lib\\site-packages (from nltk) (2020.11.13)\n",
      "Requirement already satisfied: tqdm in e:\\users\\acer\\anaconda3\\lib\\site-packages (from nltk) (4.55.1)\n",
      "\n",
      "Requirement already satisfied: joblib in e:\\users\\acer\\anaconda3\\lib\\site-packages (from nltk) (1.0.0)\n"
     ]
    }
   ],
   "source": [
    "pip install nltk"
   ]
  },
  {
   "cell_type": "code",
   "execution_count": 3,
   "id": "separated-mississippi",
   "metadata": {},
   "outputs": [
    {
     "name": "stderr",
     "output_type": "stream",
     "text": [
      "[nltk_data] Downloading package punkt to\n",
      "[nltk_data]     C:\\Users\\ACER\\AppData\\Roaming\\nltk_data...\n",
      "[nltk_data]   Unzipping tokenizers\\punkt.zip.\n"
     ]
    },
    {
     "data": {
      "text/plain": [
       "True"
      ]
     },
     "execution_count": 3,
     "metadata": {},
     "output_type": "execute_result"
    }
   ],
   "source": [
    "import nltk\n",
    "nltk.download('punkt')"
   ]
  },
  {
   "cell_type": "code",
   "execution_count": 19,
   "id": "subsequent-margin",
   "metadata": {},
   "outputs": [
    {
     "data": {
      "text/plain": [
       "['Welcome readers.', 'I hope you find it interesting.', 'Please do reply.']"
      ]
     },
     "execution_count": 19,
     "metadata": {},
     "output_type": "execute_result"
    }
   ],
   "source": [
    "import nltk\n",
    "text=\"\"\"Welcome readers. I hope you find it interesting. Please do reply.\"\"\"\n",
    "\n",
    "from nltk.tokenize import sent_tokenize\n",
    "sent_tokenize(text)"
   ]
  },
  {
   "cell_type": "code",
   "execution_count": 22,
   "id": "complicated-hudson",
   "metadata": {},
   "outputs": [
    {
     "data": {
      "text/plain": [
       "[' Hello everyone.',\n",
       " 'Hope all are fine and doing well.',\n",
       " 'Hope you find the book interesting.']"
      ]
     },
     "execution_count": 22,
     "metadata": {},
     "output_type": "execute_result"
    }
   ],
   "source": [
    "import nltk \n",
    "tokenizer = nltk.data.load('tokenizers/punkt/english.pickle')\n",
    "text=\" Hello everyone. Hope all are fine and doing well. Hope you find the book interesting. \"\n",
    "tokenizer.tokenize(text) "
   ]
  },
  {
   "cell_type": "code",
   "execution_count": 31,
   "id": "dated-service",
   "metadata": {},
   "outputs": [
    {
     "data": {
      "text/plain": [
       "['\"\\nمرحبا بكم.', 'نحن نتعلم اساسيات مبادئ  \\nاسترجاع المعلومات.']"
      ]
     },
     "execution_count": 31,
     "metadata": {},
     "output_type": "execute_result"
    }
   ],
   "source": [
    "import nltk\n",
    "french_tokenizer=nltk.data.load('tokenizers/punkt/french.pickle') \n",
    "text = \"\"\"\"\n",
    "مرحبا بكم. نحن نتعلم اساسيات مبادئ  \n",
    "استرجاع المعلومات.\"\"\"\n",
    "tokenizer.tokenize(text) "
   ]
  },
  {
   "cell_type": "code",
   "execution_count": 38,
   "id": "hourly-aquarium",
   "metadata": {},
   "outputs": [
    {
     "name": "stdout",
     "output_type": "stream",
     "text": [
      "['``', 'Welcome', 'readers', '.', 'I', 'hope', 'you', 'find', 'it', 'interesting', '.', 'Please', 'do', 'reply', '..', '»', '”']\n"
     ]
    }
   ],
   "source": [
    "import nltk\n",
    "text=nltk.word_tokenize(\"\"\"\"Welcome readers. I hope\n",
    "you find it interesting. Please do reply..»”\"\"\") \n",
    "print(text)"
   ]
  },
  {
   "cell_type": "code",
   "execution_count": 47,
   "id": "annoying-quilt",
   "metadata": {},
   "outputs": [
    {
     "name": "stdout",
     "output_type": "stream",
     "text": [
      "Enter a Text: e\n"
     ]
    },
    {
     "data": {
      "text/plain": [
       "['e']"
      ]
     },
     "execution_count": 47,
     "metadata": {},
     "output_type": "execute_result"
    }
   ],
   "source": [
    "import nltk\n",
    "\n",
    "Text = input(\"Enter a Text: \")\n",
    "\n",
    "tokenizer.tokenize(Text) \n"
   ]
  },
  {
   "cell_type": "code",
   "execution_count": 51,
   "id": "surprising-engineer",
   "metadata": {},
   "outputs": [
    {
     "name": "stdout",
     "output_type": "stream",
     "text": [
      "[['``', 'It', 'is', 'a', 'pleasant', 'evening', '.', '``', ',', \"''\", 'Guests', ',', 'who', 'came', 'from', 'US', 'arrived', 'at', 'the', 'venue', \"''\", ',', \"''\", 'Food', 'was', 'tasty', '.']]\n"
     ]
    }
   ],
   "source": [
    "text=[\"\"\"\" It is a pleasant evening.\",\"Guests, who came\n",
    "from US arrived at the venue\",\"Food was tasty.\"\"\"]\n",
    "from nltk.tokenize import word_tokenize\n",
    "tokenized_docs=[word_tokenize(doc) for doc in text]\n",
    "print(tokenized_docs) "
   ]
  },
  {
   "cell_type": "code",
   "execution_count": 1,
   "id": "neutral-sense",
   "metadata": {},
   "outputs": [
    {
     "ename": "IndentationError",
     "evalue": "expected an indented block (<ipython-input-1-1c551af3232f>, line 8)",
     "output_type": "error",
     "traceback": [
      "\u001b[1;36m  File \u001b[1;32m\"<ipython-input-1-1c551af3232f>\"\u001b[1;36m, line \u001b[1;32m8\u001b[0m\n\u001b[1;33m    new_token = x.sub(u'', token)\u001b[0m\n\u001b[1;37m    ^\u001b[0m\n\u001b[1;31mIndentationError\u001b[0m\u001b[1;31m:\u001b[0m expected an indented block\n"
     ]
    }
   ],
   "source": [
    "import re\n",
    "import string\n",
    "x=re.compile('[%s]' % re.escape(string.punctuation))\n",
    "tokenized_docs_no_punctuation = []\n",
    "for review in tokenized_docs:\n",
    " new_review = []\n",
    " for token in review:\n",
    " new_token = x.sub(u'', token)\n",
    " if not new_token == u'':\n",
    " new_review.append(new_token)\n",
    " tokenized_docs_no_punctuation.append(new_review)\n",
    "print(tokenized_docs_no_punctuation) \n"
   ]
  },
  {
   "cell_type": "code",
   "execution_count": 2,
   "id": "given-salmon",
   "metadata": {},
   "outputs": [
    {
     "name": "stdout",
     "output_type": "stream",
     "text": [
      "[['``', 'It', 'is', 'a', 'pleasant', 'evening', '.', '``', ',', \"''\", 'Guests', ',', 'who', 'came', 'from', 'US', 'arrived', 'at', 'the', 'venue', \"''\", ',', \"''\", 'Food', 'was', 'tasty', '.']]\n"
     ]
    }
   ],
   "source": [
    "text=[\"\"\"\" It is a pleasant evening.\",\"Guests, who came\n",
    "from US arrived at the venue\",\"Food was tasty.\"\"\"]\n",
    "from nltk.tokenize import word_tokenize\n",
    "tokenized_docs=[word_tokenize(doc) for doc in text]\n",
    "print(tokenized_docs) \n"
   ]
  },
  {
   "cell_type": "code",
   "execution_count": 10,
   "id": "described-cooperative",
   "metadata": {},
   "outputs": [
    {
     "name": "stdout",
     "output_type": "stream",
     "text": [
      "[['It', 'is', 'a', 'pleasant', 'evening', 'Guests', 'who', 'came', 'from', 'US', 'arrived', 'at', 'the', 'venue', 'Food', 'was', 'tasty']]\n"
     ]
    }
   ],
   "source": [
    "import re\n",
    "import string\n",
    "x=re.compile('[%s]' % re.escape(string.punctuation))\n",
    "tokenized_docs_no_punctuation = []\n",
    "for review in tokenized_docs:\n",
    " new_review = []\n",
    " for token in review:\n",
    "    new_token = x.sub(u'', token)\n",
    "    if not new_token == u'':\n",
    "        new_review.append(new_token)\n",
    " tokenized_docs_no_punctuation.append(new_review)\n",
    "print(tokenized_docs_no_punctuation)"
   ]
  },
  {
   "cell_type": "code",
   "execution_count": null,
   "id": "nuclear-ordinary",
   "metadata": {},
   "outputs": [],
   "source": []
  }
 ],
 "metadata": {
  "kernelspec": {
   "display_name": "Python 3",
   "language": "python",
   "name": "python3"
  },
  "language_info": {
   "codemirror_mode": {
    "name": "ipython",
    "version": 3
   },
   "file_extension": ".py",
   "mimetype": "text/x-python",
   "name": "python",
   "nbconvert_exporter": "python",
   "pygments_lexer": "ipython3",
   "version": "3.8.5"
  }
 },
 "nbformat": 4,
 "nbformat_minor": 5
}
