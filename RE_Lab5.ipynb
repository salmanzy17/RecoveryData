{
 "cells": [
  {
   "cell_type": "code",
   "execution_count": 14,
   "id": "emotional-placement",
   "metadata": {},
   "outputs": [
    {
     "name": "stdout",
     "output_type": "stream",
     "text": [
      "0.5555555555555556\n",
      "['There', 'are', 'many', 'similarity', 'measures', 'used', 'in', 'NLTK', 'package']\n",
      "['There', 'are', 'many', 'similarity', 'measures', 'are', 'available', 'in', 'NLTK']\n"
     ]
    }
   ],
   "source": [
    "from __future__ import print_function\n",
    "Sentence1='There are many similarity measures used in NLTK package'.split()\n",
    "Sentence2= 'There are many similarity measures are available in NLTK'.split()\n",
    "from nltk.metrics import *\n",
    "print(accuracy(Sentence1,Sentence2))\n",
    "print(Sentence1)\n",
    "print(Sentence2)"
   ]
  },
  {
   "cell_type": "code",
   "execution_count": 7,
   "id": "backed-arcade",
   "metadata": {},
   "outputs": [
    {
     "name": "stdout",
     "output_type": "stream",
     "text": [
      "0.875\n"
     ]
    }
   ],
   "source": [
    "print(precision(set(Sentence1),set(Sentence2)))\n"
   ]
  },
  {
   "cell_type": "code",
   "execution_count": 8,
   "id": "pacific-dance",
   "metadata": {},
   "outputs": [
    {
     "name": "stdout",
     "output_type": "stream",
     "text": [
      "0.7777777777777778\n"
     ]
    }
   ],
   "source": [
    "print(recall(set(Sentence1),set(Sentence2)))\n"
   ]
  },
  {
   "cell_type": "code",
   "execution_count": 17,
   "id": "piano-affair",
   "metadata": {},
   "outputs": [
    {
     "name": "stdout",
     "output_type": "stream",
     "text": [
      "              precision    recall  f1-score   support\n",
      "\n",
      "        NLTK       0.00      0.00      0.00         1\n",
      "       There       1.00      1.00      1.00         1\n",
      "         are       0.50      1.00      0.67         1\n",
      "   available       0.00      0.00      0.00         0\n",
      "          in       0.00      0.00      0.00         1\n",
      "        many       1.00      1.00      1.00         1\n",
      "    measures       1.00      1.00      1.00         1\n",
      "     package       0.00      0.00      0.00         1\n",
      "  similarity       1.00      1.00      1.00         1\n",
      "        used       0.00      0.00      0.00         1\n",
      "\n",
      "    accuracy                           0.56         9\n",
      "   macro avg       0.45      0.50      0.47         9\n",
      "weighted avg       0.50      0.56      0.52         9\n",
      "\n"
     ]
    },
    {
     "name": "stderr",
     "output_type": "stream",
     "text": [
      "e:\\Users\\ACER\\anaconda3\\lib\\site-packages\\sklearn\\metrics\\_classification.py:1221: UndefinedMetricWarning: Precision and F-score are ill-defined and being set to 0.0 in labels with no predicted samples. Use `zero_division` parameter to control this behavior.\n",
      "  _warn_prf(average, modifier, msg_start, len(result))\n",
      "e:\\Users\\ACER\\anaconda3\\lib\\site-packages\\sklearn\\metrics\\_classification.py:1221: UndefinedMetricWarning: Recall and F-score are ill-defined and being set to 0.0 in labels with no true samples. Use `zero_division` parameter to control this behavior.\n",
      "  _warn_prf(average, modifier, msg_start, len(result))\n"
     ]
    }
   ],
   "source": [
    "from sklearn.metrics import confusion_matrix, classification_report\n",
    "print(classification_report(Sentence1,Sentence2))"
   ]
  },
  {
   "cell_type": "code",
   "execution_count": 33,
   "id": "pleased-criticism",
   "metadata": {},
   "outputs": [
    {
     "name": "stdout",
     "output_type": "stream",
     "text": [
      "{'NLTK', 'in', 'are', 'There', 'many', 'similarity', 'used', 'package', 'measures'}\n"
     ]
    },
    {
     "data": {
      "text/plain": [
       "<AxesSubplot:>"
      ]
     },
     "execution_count": 33,
     "metadata": {},
     "output_type": "execute_result"
    },
    {
     "data": {
      "image/png": "[encoded data removed]",
      "text/plain": [
       "<Figure size 360x432 with 2 Axes>"
      ]
     },
     "metadata": {
      "needs_background": "light"
     },
     "output_type": "display_data"
    }
   ],
   "source": [
    "import seaborn as sn\n",
    "import pandas as pd\n",
    "import matplotlib.pyplot as plt\n",
    "array = confusion_matrix(Sentence1,Sentence1)\n",
    "\n",
    "setA=set(Sentence1)\n",
    "setB=set(Sentence1)\n",
    "dic = setA.union(setB)\n",
    "print(dic)\n",
    "df = pd.DataFrame(array,index = dic , columns=dic)\n",
    "plt.figure(figsize=(5,6))\n",
    "sn.heatmap(df,annot=True,annot_kws={\"size\":16})"
   ]
  },
  {
   "cell_type": "code",
   "execution_count": 34,
   "id": "chinese-eagle",
   "metadata": {},
   "outputs": [
    {
     "ename": "SyntaxError",
     "evalue": "invalid syntax (<ipython-input-34-619b21694cfa>, line 2)",
     "output_type": "error",
     "traceback": [
      "\u001b[1;36m  File \u001b[1;32m\"<ipython-input-34-619b21694cfa>\"\u001b[1;36m, line \u001b[1;32m2\u001b[0m\n\u001b[1;33m    def _edit_dist_init(len1,len2)\u001b[0m\n\u001b[1;37m                                  ^\u001b[0m\n\u001b[1;31mSyntaxError\u001b[0m\u001b[1;31m:\u001b[0m invalid syntax\n"
     ]
    }
   ],
   "source": [
    "from __future__ import print_function\n",
    "def _edit_dist_init(len1,len2)\n",
    "    lev =[]\n",
    "    for i in range(len1):\n",
    "        lev.append([0]*len2)\n",
    "    for i in range(len2):\n",
    "        lev[0][j]=j\n",
    "    return lev\n",
    "def _edit_dist_step(lev,i,j,s)\n",
    "    "
   ]
  },
  {
   "cell_type": "code",
   "execution_count": null,
   "id": "signed-supervisor",
   "metadata": {},
   "outputs": [],
   "source": []
  }
 ],
 "metadata": {
  "kernelspec": {
   "display_name": "Python 3",
   "language": "python",
   "name": "python3"
  },
  "language_info": {
   "codemirror_mode": {
    "name": "ipython",
    "version": 3
   },
   "file_extension": ".py",
   "mimetype": "text/x-python",
   "name": "python",
   "nbconvert_exporter": "python",
   "pygments_lexer": "ipython3",
   "version": "3.8.5"
  }
 },
 "nbformat": 4,
 "nbformat_minor": 5
}
