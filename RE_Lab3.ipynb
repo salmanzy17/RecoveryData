{
 "cells": [
  {
   "cell_type": "code",
   "execution_count": 3,
   "id": "mysterious-netscape",
   "metadata": {},
   "outputs": [
    {
     "name": "stdout",
     "output_type": "stream",
     "text": [
      "Yes! We have a match\n"
     ]
    }
   ],
   "source": [
    "import re\n",
    "sent = \"Regular expression is a sequence of character(s) mainly used to find and replace patterns in a string or file\"\n",
    "start_word='Regular'\n",
    "end = 'file'\n",
    "x = re.search(\"^\"+ start_word + \".*file$\",sent)\n",
    "if x:\n",
    "    print(\"Yes! We have a match\")\n",
    "else:\n",
    "    print(\"no Match\")\n"
   ]
  },
  {
   "cell_type": "code",
   "execution_count": 1,
   "id": "cross-congress",
   "metadata": {},
   "outputs": [
    {
     "name": "stdout",
     "output_type": "stream",
     "text": [
      "We will see how to replace words using regular expressions such does not, can’t and so on\n"
     ]
    }
   ],
   "source": [
    "import re\n",
    "replacement_patterns = [\n",
    "(r'won\\'t', 'will not'),\n",
    "(r'can\\'t', 'cannot'),\n",
    "(r'i\\'m', 'i am'),\n",
    "(r'ain\\'t', 'is not'),\n",
    "(r'(\\w+)\\'ll', '\\g<1> will'),\n",
    "(r'(\\w+)n\\'t', '\\g<1> not'),\n",
    "(r'(\\w+)\\'ve', '\\g<1> have'),\n",
    "(r'(\\w+)\\'s', '\\g<1> is'),\n",
    "(r'(\\w+)\\'re', '\\g<1> are'),\n",
    "(r'(\\w+)\\'d', '\\g<1> would')]\n",
    "\n",
    "class RegexReplacer(object):\n",
    "    def __init__(self, patterns=replacement_patterns):\n",
    "        self.patterns = [(re.compile(regex), repl) for (regex, repl)in patterns]\n",
    "    def replace(self, text):\n",
    "        s = text\n",
    "        for (pattern, repl) in self.patterns:\n",
    "            (s, count) = re.subn(pattern, repl, s)\n",
    "        return s \n",
    "\n",
    "replacer = RegexReplacer()\n",
    "text=\"We'll see how to replace words using regular expressions such doesn't, can’t and so on\" \n",
    "print(replacer.replace(text))"
   ]
  },
  {
   "cell_type": "code",
   "execution_count": 11,
   "id": "simple-investing",
   "metadata": {},
   "outputs": [
    {
     "name": "stdout",
     "output_type": "stream",
     "text": [
      "Enter your Text: hello \n"
     ]
    },
    {
     "data": {
      "text/plain": [
       "'helo '"
      ]
     },
     "execution_count": 11,
     "metadata": {},
     "output_type": "execute_result"
    }
   ],
   "source": [
    "class RepeatReplacer(object): \n",
    "  def __init__(self):\n",
    "    self.repeat_regexp = re.compile(r'(\\w*)(\\w)\\2(\\w*)')\n",
    "    self.repl = r'\\1\\2\\3'\n",
    "  def replace(self, word):\n",
    "    repl_word = self.repeat_regexp.sub(self.repl, word)\n",
    "    if repl_word != word:\n",
    "     return self.replace(repl_word)\n",
    "    else:\n",
    "     return repl_word \n",
    "\n",
    "replacer = RepeatReplacer()\n",
    "text = input(\"Enter your Text: \")\n",
    "\n",
    "replacer.replace(text)\n"
   ]
  },
  {
   "cell_type": "code",
   "execution_count": null,
   "id": "stone-cliff",
   "metadata": {},
   "outputs": [],
   "source": []
  },
  {
   "cell_type": "code",
   "execution_count": null,
   "id": "organizational-fantasy",
   "metadata": {},
   "outputs": [],
   "source": []
  }
 ],
 "metadata": {
  "kernelspec": {
   "display_name": "Python 3",
   "language": "python",
   "name": "python3"
  },
  "language_info": {
   "codemirror_mode": {
    "name": "ipython",
    "version": 3
   },
   "file_extension": ".py",
   "mimetype": "text/x-python",
   "name": "python",
   "nbconvert_exporter": "python",
   "pygments_lexer": "ipython3",
   "version": "3.8.5"
  }
 },
 "nbformat": 4,
 "nbformat_minor": 5
}
