{
 "cells": [
  {
   "cell_type": "code",
   "execution_count": null,
   "id": "compliant-survey",
   "metadata": {},
   "outputs": [],
   "source": [
    "import pandas as pd\n",
    "import numpy as np\n",
    "import nltk\n",
    "nltk.download('stopwords')\n",
    "nltk.download('punkt') "
   ]
  },
  {
   "cell_type": "code",
   "execution_count": null,
   "id": "northern-morning",
   "metadata": {},
   "outputs": [],
   "source": [
    "from nltk.corpus import stopwords\n",
    "from nltk.tokenize import word_tokenize\n",
    "from nltk.stem import PorterStemmer\n",
    "import os\n",
    "import string\n",
    "import copy\n",
    "import pickle "
   ]
  },
  {
   "cell_type": "code",
   "execution_count": null,
   "id": "interested-cartoon",
   "metadata": {},
   "outputs": [],
   "source": [
    "title = \"20_newsgroups\""
   ]
  },
  {
   "cell_type": "code",
   "execution_count": null,
   "id": "instructional-domestic",
   "metadata": {},
   "outputs": [],
   "source": [
    "os.chdir(\"E:/20_newsgroups\")\n",
    "paths = []\n",
    "for(dirpath, dirnames, filenames)in os.walk(str(os.getcwd())+'/'+title+'/'+'alt.atheism'+'/'):\n",
    "    for i in filenames:\n",
    "        paths.append(str(dirpath)+str('/')+i) \n",
    "print(dirpath)\n",
    "paths[0]"
   ]
  },
  {
   "cell_type": "code",
   "execution_count": null,
   "id": "alike-secretary",
   "metadata": {},
   "outputs": [],
   "source": [
    "def remove_stop_words(data):\n",
    "    stop_words = stopwords.words('english')\n",
    "    words = word_tokenize(str(data))\n",
    "    new_text = ''\n",
    "    for w in words:\n",
    "        if w not in stop_words:\n",
    "            new_text = new_text + ' ' + w\n",
    "    return np.char.strip(new_text)"
   ]
  },
  {
   "cell_type": "code",
   "execution_count": null,
   "id": "chinese-horizon",
   "metadata": {},
   "outputs": [],
   "source": [
    "def remove_punctuation(data):\n",
    "    symbols = \"!\\\"#$%&()*+-./:;<=>?@[\\]^_`{|}~\\n\"\n",
    "    for i in range(len(symbols)):\n",
    "        data = np.char.replace(data, symbols[i], '')\n",
    "        data = np.char.replace(data, \" \", \" \")\n",
    "        data = np.char.replace(data, ',', '')\n",
    "    return data"
   ]
  },
  {
   "cell_type": "code",
   "execution_count": null,
   "id": "communist-republic",
   "metadata": {},
   "outputs": [],
   "source": [
    "def convert_lower_case(data):\n",
    "    return np.char.lower(data)"
   ]
  },
  {
   "cell_type": "code",
   "execution_count": null,
   "id": "heavy-feedback",
   "metadata": {},
   "outputs": [],
   "source": [
    "def stemming(data):\n",
    "    stemmer= PorterStemmer()\n",
    "\n",
    "    tokens = word_tokenize(str(data))\n",
    "    new_text = \"\"\n",
    "    for w in tokens:\n",
    "        new_text = new_text + \" \" + stemmer.stem(w)\n",
    "    return np.char.strip(new_text) \n"
   ]
  },
  {
   "cell_type": "code",
   "execution_count": null,
   "id": "driving-salon",
   "metadata": {},
   "outputs": [],
   "source": [
    "def convert_numbers(data):\n",
    "    data = np.char.replace(data, \"0\", \" zero \")\n",
    "    data = np.char.replace(data, \"1\", \" one \")\n",
    "    data = np.char.replace(data, \"2\", \" two \")\n",
    "    data = np.char.replace(data, \"3\", \" three \")\n",
    "    data = np.char.replace(data, \"4\", \" four \")\n",
    "    data = np.char.replace(data, \"5\", \" five \")\n",
    "    data = np.char.replace(data, \"6\", \" six \")\n",
    "    data = np.char.replace(data, \"7\", \" seven \")\n",
    "    data = np.char.replace(data, \"8\", \" eight \")\n",
    "    data = np.char.replace(data, \"9\", \" nine \")\n",
    "    return data "
   ]
  },
  {
   "cell_type": "code",
   "execution_count": null,
   "id": "moderate-exploration",
   "metadata": {},
   "outputs": [],
   "source": [
    "def remove_header(data):\n",
    "    try:\n",
    "        ind = data.index('\\n\\n')\n",
    "        data = data[ind:]\n",
    "    except:\n",
    "        print(\"No Header\")\n",
    "    return data"
   ]
  },
  {
   "cell_type": "code",
   "execution_count": null,
   "id": "regular-reflection",
   "metadata": {},
   "outputs": [],
   "source": [
    "def remove_apostrophe(data):\n",
    "    return np.char.replace(data, \"'\", \"\") \n"
   ]
  },
  {
   "cell_type": "code",
   "execution_count": null,
   "id": "graphic-hungary",
   "metadata": {},
   "outputs": [],
   "source": [
    "def remove_single_characters(data):\n",
    "    words = word_tokenize(str(data))\n",
    "    new_text = \"\"\n",
    "    for w in words:\n",
    "        if len(w) > 1:\n",
    "            new_text = new_text + \" \" + w\n",
    "    return np.char.strip(new_text) "
   ]
  },
  {
   "cell_type": "code",
   "execution_count": null,
   "id": "quick-clarity",
   "metadata": {},
   "outputs": [],
   "source": [
    "def preprocess(data, query):\n",
    "    if not query:\n",
    "        data = remove_header(data)\n",
    "        data = convert_lower_case(data)\n",
    "        data = convert_numbers(data)\n",
    "        data = remove_punctuation(data)\n",
    "        data = remove_stop_words(data)\n",
    "        data = remove_apostrophe(data)\n",
    "        data = remove_single_characters(data)\n",
    "        data = stemming(data)\n",
    "    return data \n"
   ]
  },
  {
   "cell_type": "code",
   "execution_count": null,
   "id": "blond-supervision",
   "metadata": {},
   "outputs": [],
   "source": [
    "doc = 0\n",
    "postings = pd.DataFrame()\n",
    "for path in paths:\n",
    "    file = open(path, 'r', encoding='cp1250')\n",
    "    text = file.read().strip()\n",
    "    file.close()\n",
    "    preprocessed_text = preprocess(text, False)\n",
    "\n",
    "    if doc%100 == 0:\n",
    "         print(doc)\n",
    "    tokens = word_tokenize(str(preprocessed_text))\n",
    "    for token in tokens:\n",
    "        if token in postings:\n",
    "            p = postings[token][0]\n",
    "            p.add(doc)\n",
    "            postings[token][0] = p \n",
    "        else:\n",
    "             postings.insert(value=[{doc}], loc=0,column=token)\n",
    "                \n",
    "    doc += 1 \n"
   ]
  },
  {
   "cell_type": "code",
   "execution_count": null,
   "id": "controlling-status",
   "metadata": {},
   "outputs": [],
   "source": [
    "postings"
   ]
  },
  {
   "cell_type": "code",
   "execution_count": null,
   "id": "christian-magnitude",
   "metadata": {},
   "outputs": [],
   "source": [
    "def gen_not_tuple(query_words, commands):\n",
    "\n",
    "    tup = []\n",
    "\n",
    "    while 'not' in commands:\n",
    "\n",
    "        i = commands.index('not')\n",
    "\n",
    "        word = query_words[i]\n",
    "\n",
    "        word_postings = get_not(word)\n",
    "\n",
    "        tup.append(word_postings)\n",
    "\n",
    "        commands.pop(i)\n",
    "\n",
    "        query_words[i] = i\n",
    "\n",
    "        print('\\nAfter Not Processing:', commands, query_words)\n",
    "\n",
    "    return tup\n",
    "\n",
    "\n",
    "def binary_operations(query_words, commands, tup):\n",
    "\n",
    "    a = postings[query_words[0]][0]\n",
    "\n",
    "    query_words.pop(0)\n",
    "\n",
    "    for i in range(len(commands)):\n",
    "\n",
    "        if type(query_words[i]) == int:\n",
    "\n",
    "            b = tup.pop(0)\n",
    "        else:\n",
    "\n",
    "            b = postings[query_words[i]][0]\n",
    "\n",
    "        if commands[i] == 'and':\n",
    "\n",
    "            a = a.intersection(b)\n",
    "        elif commands[i] == 'or':\n",
    "\n",
    "            a = a.union(b)\n",
    "        else:\n",
    "\n",
    "            print('Invalid Command')\n",
    "\n",
    "    return a\n",
    "\n",
    "\n",
    "def execute_query(query):\n",
    "\n",
    "    (commands, query_words) = generate_command_tokens(query)\n",
    "\n",
    "    tup = gen_not_tuple(query_words, commands)\n",
    "\n",
    "    print('\\nCommands:', commands)\n",
    "\n",
    "    print('\\nQuery Words:', query_words)\n",
    "\n",
    "    print('\\nTup:', len(tup))\n",
    "\n",
    "    final_set = binary_operations(query_words, commands, tup)\n",
    "\n",
    "    print('\\nFinal Set:', final_set)\n",
    "\n",
    "    return final_set\n",
    "\n",
    "\n",
    "def print_file(file):\n",
    "\n",
    "    out_file = open(paths[file], 'r', encoding='cp1250')\n",
    "\n",
    "    out_text = out_file.read()\n",
    "\n",
    "    print(out_text)"
   ]
  },
  {
   "cell_type": "code",
   "execution_count": null,
   "id": "related-harvey",
   "metadata": {},
   "outputs": [],
   "source": [
    "postings = pd.DataFrame()\n",
    "frequency = pd.DataFrame() "
   ]
  },
  {
   "cell_type": "code",
   "execution_count": null,
   "id": "patent-november",
   "metadata": {},
   "outputs": [],
   "source": [
    "doc = 0\n",
    "for path in paths:\n",
    "    file = open(path, 'r', encoding='cp1250')\n",
    "    text = file.read().strip()\n",
    "    file.close()\n",
    "    preprocessed_text = preprocess(text, False)\n",
    "    if doc%100 == 0:\n",
    "        print(doc)\n",
    "    tokens = word_tokenize(str(preprocessed_text)) \n"
   ]
  },
  {
   "cell_type": "code",
   "execution_count": null,
   "id": "colored-weight",
   "metadata": {},
   "outputs": [],
   "source": [
    " pos = 0\n",
    "    for token in tokens:\n",
    "    if token in postings:\n",
    "        p = postings[token][0]\n",
    "        k = [a[0] for a in p]\n",
    "          if doc in k:\n",
    "            for a in p:\n",
    "                if a[0] == doc:a[1].add(pos)\n",
    "                else:\n",
    "                    p.append([doc,{pos}])\n",
    "                    frequency[token][0] += 1\n",
    "        else:\n",
    "             postings.insert(value=[[[doc, {pos}]]],loc=0, column=token)\n",
    "                frequency.insert(value=[1], loc=0, column=token)\n",
    "                 pos += 1\n",
    "                doc += 1 "
   ]
  },
  {
   "cell_type": "code",
   "execution_count": null,
   "id": "anticipated-lease",
   "metadata": {},
   "outputs": [],
   "source": [
    "postings.to_pickle(title + \"_positional_postings\")\n",
    " frequency.to_pickle(title + \"_positional_frequency\") \n"
   ]
  },
  {
   "cell_type": "code",
   "execution_count": null,
   "id": "collaborative-helping",
   "metadata": {},
   "outputs": [],
   "source": [
    "postings = pd.read_pickle(title + \"_positional_postings\") \n"
   ]
  },
  {
   "cell_type": "code",
   "execution_count": null,
   "id": "physical-skating",
   "metadata": {},
   "outputs": [],
   "source": [
    "frequency = pd.read_pickle(title + \"_positional_frequency\")"
   ]
  },
  {
   "cell_type": "code",
   "execution_count": null,
   "id": "available-inflation",
   "metadata": {},
   "outputs": [],
   "source": []
  }
 ],
 "metadata": {
  "kernelspec": {
   "display_name": "Python 3",
   "language": "python",
   "name": "python3"
  },
  "language_info": {
   "codemirror_mode": {
    "name": "ipython",
    "version": 3
   },
   "file_extension": ".py",
   "mimetype": "text/x-python",
   "name": "python",
   "nbconvert_exporter": "python",
   "pygments_lexer": "ipython3",
   "version": "3.8.5"
  }
 },
 "nbformat": 4,
 "nbformat_minor": 5
}
